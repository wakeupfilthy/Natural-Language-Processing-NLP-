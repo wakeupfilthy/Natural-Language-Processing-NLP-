{
  "nbformat": 4,
  "nbformat_minor": 0,
  "metadata": {
    "colab": {
      "provenance": []
    },
    "kernelspec": {
      "name": "python3",
      "display_name": "Python 3"
    },
    "language_info": {
      "name": "python"
    }
  },
  "cells": [
    {
      "cell_type": "markdown",
      "source": [
        "# EXPRESIONES REGULARES Y VECTORIZACIÓN DE DOCUMENTOS"
      ],
      "metadata": {
        "id": "CTv2UBdo4uYo"
      }
    },
    {
      "cell_type": "markdown",
      "source": [
        "Angel Israel Hernandez Testa<br>\n",
        "5BV1 TLN-IA<br>\n",
        "2022630048"
      ],
      "metadata": {
        "id": "ncS0Rl_V5fQ7"
      }
    },
    {
      "cell_type": "markdown",
      "source": [
        "### PARTE 1. IDENTIFICACIÓN, SUBSTITUCIÓN Y/O INSERCIÓN DE TEXTO USANDO EXPRESIONES REGULARES"
      ],
      "metadata": {
        "id": "iwGd8uex4rq4"
      }
    },
    {
      "cell_type": "markdown",
      "source": [
        "Para el texto contenido en el archivo “expenses.txt” y únicamente para los numerales 1\n",
        "a 5, identificar las líneas que cumplan con los siguientes:"
      ],
      "metadata": {
        "id": "34bummDn8mRD"
      }
    },
    {
      "cell_type": "code",
      "source": [
        "import re\n",
        "\n",
        "text_expenses='''\n",
        "Amount:Category:Date:Description\n",
        "5.25:supply:20170222:box of staples\n",
        "79.81:meal:20170222:lunch with ABC Corp. clients Al, Bob, and Cy\n",
        "43.00:travel:20170222:cab back to office\n",
        "383.75:travel:20170223:flight to Boston, to visit ABC Corp.\n",
        "55.00:travel:20170223:cab to ABC Corp. in Cambridge, MA\n",
        "23.25:meal:20170223:dinner at Logan Airport\n",
        "318.47:supply:20170224:paper, toner, pens, paperclips, tape\n",
        "142.12:meal:20170226:host dinner with ABC clients, Al, Bob, Cy, Dave, Ellie\n",
        "303.94:util:20170227:Peoples Gas\n",
        "121.07:util:20170227:Verizon Wireless\n",
        "7.59:supply:20170227:Python book (used)\n",
        "79.99:supply:20170227:spare 20\" monitor\n",
        "49.86:supply:20170228:Stoch Cal for Finance II\n",
        "6.53:meal:20170302:Dunkin Donuts, drive to Big Inc. near DC\n",
        "127.23:meal:20170302:dinner, Tavern64\n",
        "33.07:meal:20170303:dinner, Uncle Julio's\n",
        "86.00:travel:20170304:mileage, drive to/from Big Inc., Reston, VA\n",
        "22.00:travel:20170304:tolls\n",
        "378.81:travel:20170304:Hyatt Hotel, Reston VA, for Big Inc. meeting\n",
        "1247.49:supply:20170306:Dell 7000 laptop/workstation\n",
        "6.99:supply:20170306:HDMI cable\n",
        "212.06:util:20170308:Duquesne Light\n",
        "23.86:supply:20170309:Practical Guide to Quant Finance Interviews\n",
        "195.89:supply:20170309:black toner, HP 304A, 2-pack\n",
        "86.00:travel:20170317:mileage, drive to/from Big Inc., Reston, VA\n",
        "32.27:meal:20170317:lunch at Clyde's with Fred and Gina, Big Inc.\n",
        "22.00:travel:20170317:tolls\n",
        "119.56:util:20170319:Verizon Wireless\n",
        "284.23:util:20170323:Peoples Gas\n",
        "8.98:supply:20170325:Flair pens\n",
        "'''\n",
        "def show_matches(regex,text):\n",
        "  pattern=re.compile(regex)\n",
        "  matches=pattern.finditer(text)\n",
        "  for match in matches:\n",
        "    print(match.group(0))\n",
        "\n",
        "def show_matches_i(regex, text):\n",
        "    pattern = re.compile(regex, re.IGNORECASE | re.MULTILINE)\n",
        "    matches = pattern.finditer(text)\n",
        "    for match in matches:\n",
        "        print(match.group(0))\n"
      ],
      "metadata": {
        "id": "O-LQXEn3mreG"
      },
      "execution_count": null,
      "outputs": []
    },
    {
      "cell_type": "markdown",
      "source": [
        "1. Contengan una “r” seguida por una “g”. La “r” y la “g” no necesariamente tienen\n",
        "que estar en posiciones consecutivas."
      ],
      "metadata": {
        "id": "azb3XEf78r_5"
      }
    },
    {
      "cell_type": "code",
      "source": [
        "regex = r'.*r.*g.*'\n",
        "show_matches_i(regex, text_expenses)"
      ],
      "metadata": {
        "colab": {
          "base_uri": "https://localhost:8080/"
        },
        "id": "RUJpFlx2me18",
        "outputId": "d6b5d4fd-83f3-4d7e-82fb-da53276cafd5"
      },
      "execution_count": null,
      "outputs": [
        {
          "output_type": "stream",
          "name": "stdout",
          "text": [
            "383.75:travel:20170223:flight to Boston, to visit ABC Corp.\n",
            "55.00:travel:20170223:cab to ABC Corp. in Cambridge, MA\n",
            "23.25:meal:20170223:dinner at Logan Airport\n",
            "6.53:meal:20170302:Dunkin Donuts, drive to Big Inc. near DC\n",
            "86.00:travel:20170304:mileage, drive to/from Big Inc., Reston, VA\n",
            "378.81:travel:20170304:Hyatt Hotel, Reston VA, for Big Inc. meeting\n",
            "23.86:supply:20170309:Practical Guide to Quant Finance Interviews\n",
            "86.00:travel:20170317:mileage, drive to/from Big Inc., Reston, VA\n",
            "32.27:meal:20170317:lunch at Clyde's with Fred and Gina, Big Inc.\n"
          ]
        }
      ]
    },
    {
      "cell_type": "markdown",
      "source": [
        "2. Describan comidas que cuesten al menos 100.00."
      ],
      "metadata": {
        "id": "c60TPh_0kaoz"
      }
    },
    {
      "cell_type": "code",
      "source": [
        "regex = r'(\\d{3}\\.\\d{2}:meal:[^:]*:[^:]*)(?:$|\\n)'\n",
        "show_matches(regex, text_expenses)"
      ],
      "metadata": {
        "id": "hGAb1yec30bl",
        "colab": {
          "base_uri": "https://localhost:8080/"
        },
        "outputId": "821dbc9f-e27a-4afd-8194-d54022fa4f9c"
      },
      "execution_count": null,
      "outputs": [
        {
          "output_type": "stream",
          "name": "stdout",
          "text": [
            "142.12:meal:20170226:host dinner with ABC clients, Al, Bob, Cy, Dave, Ellie\n",
            "\n",
            "127.23:meal:20170302:dinner, Tavern64\n",
            "\n"
          ]
        }
      ]
    },
    {
      "cell_type": "markdown",
      "source": [
        "3. Contengan una “a”, seguida por una “b”, seguida por una “c” puede haber otros caracteres entre la “a” y la ”b” y entre la “b” y la ”c”. En caso de existir caracteres entre las letras indicadas, dichos caracteres no pueden ser a ni b, ni b y c, respectivamente. Ejemplos de cadenas invalidas: “A apple, a banana”; “Bad but beatiful car”"
      ],
      "metadata": {
        "id": "v4Tx8m29u_ae"
      }
    },
    {
      "cell_type": "code",
      "source": [
        "regex = r'.*a[^abc]*b[^ab]*c.*'\n",
        "show_matches_i(regex, text_expenses)"
      ],
      "metadata": {
        "colab": {
          "base_uri": "https://localhost:8080/"
        },
        "id": "rAp3EBoxvWPL",
        "outputId": "08e07b68-9cc4-4ec1-dce5-18352eebe217"
      },
      "execution_count": null,
      "outputs": [
        {
          "output_type": "stream",
          "name": "stdout",
          "text": [
            "79.81:meal:20170222:lunch with ABC Corp. clients Al, Bob, and Cy\n",
            "383.75:travel:20170223:flight to Boston, to visit ABC Corp.\n",
            "55.00:travel:20170223:cab to ABC Corp. in Cambridge, MA\n",
            "318.47:supply:20170224:paper, toner, pens, paperclips, tape\n",
            "142.12:meal:20170226:host dinner with ABC clients, Al, Bob, Cy, Dave, Ellie\n",
            "6.53:meal:20170302:Dunkin Donuts, drive to Big Inc. near DC\n",
            "86.00:travel:20170304:mileage, drive to/from Big Inc., Reston, VA\n",
            "22.00:travel:20170304:tolls\n",
            "378.81:travel:20170304:Hyatt Hotel, Reston VA, for Big Inc. meeting\n",
            "86.00:travel:20170317:mileage, drive to/from Big Inc., Reston, VA\n",
            "32.27:meal:20170317:lunch at Clyde's with Fred and Gina, Big Inc.\n"
          ]
        }
      ]
    },
    {
      "cell_type": "markdown",
      "source": [
        "4. Contengan en la descripción de gastos una “a” minúscula y un digito entre 0 y 9\n",
        "en cualquier orden. Es decir, el carácter “a” puede aparecer antes o después del\n",
        "digito."
      ],
      "metadata": {
        "id": "3t8FI3P7hpTC"
      }
    },
    {
      "cell_type": "code",
      "source": [
        "regex = r'^[^:]*:[^:]*:[^:]*:.*?((a.*\\d)|(\\d.*a)).*'\n",
        "show_matches_i(regex, text_expenses)"
      ],
      "metadata": {
        "colab": {
          "base_uri": "https://localhost:8080/"
        },
        "id": "hGMAFz5thwz3",
        "outputId": "a5d0dd9b-4a27-46fa-8216-ba73045363f3"
      },
      "execution_count": null,
      "outputs": [
        {
          "output_type": "stream",
          "name": "stdout",
          "text": [
            "79.99:supply:20170227:spare 20\" monitor\n",
            "127.23:meal:20170302:dinner, Tavern64\n",
            "1247.49:supply:20170306:Dell 7000 laptop/workstation\n",
            "195.89:supply:20170309:black toner, HP 304A, 2-pack\n"
          ]
        }
      ]
    },
    {
      "cell_type": "markdown",
      "source": [
        "5. Contengan el carácter “d”, posiblemente seguido de otros caracteres, seguido de\n",
        "una “i”. Coincidencias incluirían palabras tales como: diver, doily, drip, diplomat,\n",
        "etc."
      ],
      "metadata": {
        "id": "5_x4gU_7hwLf"
      }
    },
    {
      "cell_type": "code",
      "source": [
        "regex = r'.*d[a-z]*?i[a-z]*.*'\n",
        "show_matches_i(regex, text_expenses)"
      ],
      "metadata": {
        "colab": {
          "base_uri": "https://localhost:8080/"
        },
        "id": "fZ9cS1weus_f",
        "outputId": "e4b29ae1-fecf-4ee0-a22a-22d6ba95bbc6"
      },
      "execution_count": null,
      "outputs": [
        {
          "output_type": "stream",
          "name": "stdout",
          "text": [
            "Amount:Category:Date:Description\n",
            "23.25:meal:20170223:dinner at Logan Airport\n",
            "142.12:meal:20170226:host dinner with ABC clients, Al, Bob, Cy, Dave, Ellie\n",
            "6.53:meal:20170302:Dunkin Donuts, drive to Big Inc. near DC\n",
            "127.23:meal:20170302:dinner, Tavern64\n",
            "33.07:meal:20170303:dinner, Uncle Julio's\n",
            "86.00:travel:20170304:mileage, drive to/from Big Inc., Reston, VA\n",
            "6.99:supply:20170306:HDMI cable\n",
            "86.00:travel:20170317:mileage, drive to/from Big Inc., Reston, VA\n"
          ]
        }
      ]
    },
    {
      "cell_type": "markdown",
      "source": [
        "6. Identificar títulos de películas producidas antes de 2002. El año de producción es\n",
        "el encerrado en paréntesis."
      ],
      "metadata": {
        "id": "CGAVm0a-uqUs"
      }
    },
    {
      "cell_type": "code",
      "source": [
        "text_movies = '''\n",
        "a. The Shawshank Redemption (1994)\n",
        "b. The Godfather (1972)\n",
        "c. The Godfather: Part II (1974)\n",
        "d. 2001: A Space Odyssey (1968)\n",
        "e. The Good, the Bad and the Ugly (1966)\n",
        "f. Angry Men (1957)\n",
        "g. Schindler's List (1993)\n",
        "h. The Lord of the Rings: The Return of the King (2003)\n",
        "i. Fight Club (1999)\n",
        "j. 2010: The Year We Make Contact (1984)\n",
        "k. 101 Dalmatians (1996)\n",
        "'''\n",
        "regex = r'.*\\((19\\d{2}|20{2}[0-2])\\)'\n",
        "show_matches_i(regex,text_movies)"
      ],
      "metadata": {
        "colab": {
          "base_uri": "https://localhost:8080/"
        },
        "id": "7QVp16F_wLnW",
        "outputId": "ecfdb1bf-1e94-46a7-b2f2-4e0cd5eb975a"
      },
      "execution_count": null,
      "outputs": [
        {
          "output_type": "stream",
          "name": "stdout",
          "text": [
            "a. The Shawshank Redemption (1994)\n",
            "b. The Godfather (1972)\n",
            "c. The Godfather: Part II (1974)\n",
            "d. 2001: A Space Odyssey (1968)\n",
            "e. The Good, the Bad and the Ugly (1966)\n",
            "f. Angry Men (1957)\n",
            "g. Schindler's List (1993)\n",
            "i. Fight Club (1999)\n",
            "j. 2010: The Year We Make Contact (1984)\n",
            "k. 101 Dalmatians (1996)\n"
          ]
        }
      ]
    },
    {
      "cell_type": "markdown",
      "source": [
        "7. Identificar recetas que contengan la palabra 'chocolate' y cualquier variación de\n",
        "ella en términos de combinación entre minúsculas y mayúsculas, y también\n",
        "repetición de caracteres. Por ejemplo, una cadena válida puede ser:\n",
        "“ChOcoolATe."
      ],
      "metadata": {
        "id": "UeoSMVES16cp"
      }
    },
    {
      "cell_type": "code",
      "source": [
        "text_recipes='''\n",
        "a. Cake 1: sugar, flour, cocoa powder, baking powder, baking soda, salt, eggs,milk, vegetable oil, vanilla extract, chocolATE chip.\n",
        "b. Cake 2: cream cheese, sugar, vanilla extract, crescent rolls, cinnamon, butter, honey.\n",
        "c. Cake 3: dark chocolate cake mix, instant CHOCOLATE pudding mix, sour cream, eggs, vegetable oil, coffee liqueur.\n",
        "d. Cake 4: flour, baking powder, salt, cinnamon, butter, sugar, egg, vanilla extract, milk, chopped walnuts.\n",
        "e. Cake 5: gingersnap cookies, chopped pecans, butter, cream cheese, sugar, vanilla extract, eggs, canned pumpkin, cinnamon, CHOColate.\n",
        "f. Cake 6: flour, baking soda, sea salt, butter, white sugar, brown sugar, eggs, vanilla extract, Chooocolate chips, canola oil.\n",
        "g. Cake 7: wafers, cream cheese, sugar, eggs, vanilla extract, cherry pie filling.\n",
        "'''\n",
        "regex = r'.*\\b(c+h+o+c*o+l+a+t+e+)\\b.*'\n",
        "show_matches_i(regex,text_recipes)"
      ],
      "metadata": {
        "colab": {
          "base_uri": "https://localhost:8080/"
        },
        "id": "qS4Px5zQ15aI",
        "outputId": "fdf98df7-f415-4f89-fe6a-a525e74e6ebe"
      },
      "execution_count": null,
      "outputs": [
        {
          "output_type": "stream",
          "name": "stdout",
          "text": [
            "a. Cake 1: sugar, flour, cocoa powder, baking powder, baking soda, salt, eggs,milk, vegetable oil, vanilla extract, chocolATE chip.\n",
            "c. Cake 3: dark chocolate cake mix, instant CHOCOLATE pudding mix, sour cream, eggs, vegetable oil, coffee liqueur.\n",
            "e. Cake 5: gingersnap cookies, chopped pecans, butter, cream cheese, sugar, vanilla extract, eggs, canned pumpkin, cinnamon, CHOColate.\n",
            "f. Cake 6: flour, baking soda, sea salt, butter, white sugar, brown sugar, eggs, vanilla extract, Chooocolate chips, canola oil.\n"
          ]
        }
      ]
    },
    {
      "cell_type": "markdown",
      "source": [
        "8. Insertar comas entre grupos de cada tres dígitos para las siguientes poblaciones\n",
        "por país."
      ],
      "metadata": {
        "id": "d-sENVJAQ-J5"
      }
    },
    {
      "cell_type": "code",
      "source": [
        "text_countries = '''\n",
        "a. China 1361220000\n",
        "b. India 1236800000\n",
        "c. United States 317121000\n",
        "d. Indonesia 237641326\n",
        "e. Brazil 201032714\n",
        "f. Pakistan 184872000\n",
        "g. Nigeria 173615000\n",
        "h. Bangladesh 152518015\n",
        "i. Russia 143600000\n",
        "'''\n",
        "regex = r'\\d{1,3}(?=(\\d{3})+(?!\\d))'\n",
        "modified_text = re.sub(regex, r'\\g<0>,', text_countries)\n",
        "print(modified_text)"
      ],
      "metadata": {
        "colab": {
          "base_uri": "https://localhost:8080/"
        },
        "id": "ybLJk4YGQ_zJ",
        "outputId": "0d57fcc4-c75b-408f-dd69-2c4742b9786d"
      },
      "execution_count": null,
      "outputs": [
        {
          "output_type": "stream",
          "name": "stdout",
          "text": [
            "\n",
            "a. China 1,361,220,000\n",
            "b. India 1,236,800,000\n",
            "c. United States 317,121,000\n",
            "d. Indonesia 237,641,326\n",
            "e. Brazil 201,032,714\n",
            "f. Pakistan 184,872,000\n",
            "g. Nigeria 173,615,000\n",
            "h. Bangladesh 152,518,015\n",
            "i. Russia 143,600,000\n",
            "\n"
          ]
        }
      ]
    },
    {
      "cell_type": "markdown",
      "source": [
        "9. Simplificar direcciones IPv6.\n",
        "Una dirección IP está compuesta de 8 bloques de números hexadecimales. Los\n",
        "bloques son separados por el signo “:” y contienen cuatro dígitos. Existen además\n",
        "ciertas reglas para simplificar y reducir el tamaño de una dirección IPv6. Dichas\n",
        "reglas son:<br>\n",
        "a) los bloques compuestos de puros pueden ser omitidos.<br>\n",
        "b) Los ceros al principio de un bloque pueden ser omitidos."
      ],
      "metadata": {
        "id": "WGWq5ZN5ef6e"
      }
    },
    {
      "cell_type": "code",
      "source": [
        "text_ip = '''\n",
        "2001:0db8:0000:0000:0000:ff00:0042:8329\n",
        "2607:f0d0:1002:0051:0000:0000:0000:0004\n",
        "'''\n",
        "regex = r\"(?<=:)(0{4}:)+\"\n",
        "regex2 = r\"(?<=:)(0+)\"\n",
        "modified_text = re.sub(regex, ':', text_ip)\n",
        "mod_text = re.sub(regex2, '',modified_text)\n",
        "print(mod_text)"
      ],
      "metadata": {
        "colab": {
          "base_uri": "https://localhost:8080/"
        },
        "id": "uOmtAQJ4eetr",
        "outputId": "7ffc7456-d0f0-4ed3-abb3-b40b292d870c"
      },
      "execution_count": null,
      "outputs": [
        {
          "output_type": "stream",
          "name": "stdout",
          "text": [
            "\n",
            "2001:db8::ff00:42:8329\n",
            "2607:f0d0:1002:51::4\n",
            "\n"
          ]
        }
      ]
    },
    {
      "cell_type": "markdown",
      "source": [
        "# PARTE 2. VECTORIZACIÓN DE DOCUMENTOS"
      ],
      "metadata": {
        "id": "zPd2SBeF9C0Z"
      }
    },
    {
      "cell_type": "markdown",
      "source": [
        "A partir del cuerpo de documentos:"
      ],
      "metadata": {
        "id": "vPLBc-iYvcjn"
      }
    },
    {
      "cell_type": "markdown",
      "source": [
        "1. Obtener los documentos resultado de una etapa de normalización. En\n",
        "específico, después de:<br>\n",
        "a. Convertir cada palabra a minúscula y de remover las “stop-words” y signos de\n",
        "puntuación. <br>\n",
        "b. Aplicar la técnica de “stemming”.<br>\n",
        "c. Aplicar POS-Tagging <br>\n",
        "d. Aplicar “lemmatization”."
      ],
      "metadata": {
        "id": "-Bo68ddLvjpe"
      }
    },
    {
      "cell_type": "code",
      "source": [
        "#Se importan las librerías a ocupar para la normalización\n",
        "import nltk\n",
        "from nltk.tokenize import sent_tokenize, word_tokenize\n",
        "from nltk.probability import FreqDist\n",
        "import matplotlib.pyplot as plt\n",
        "import string\n",
        "from nltk.corpus import stopwords\n",
        "from nltk.stem import SnowballStemmer\n",
        "from nltk.stem import WordNetLemmatizer\n",
        "import matplotlib.pyplot as plt\n",
        "\n",
        "#Descargas de los recursos necesarios\n",
        "nltk.download('punkt')\n",
        "nltk.download('stopwords')\n",
        "nltk.download('averaged_perceptron_tagger')\n",
        "nltk.download('wordnet')\n",
        "\n",
        "#Documentos a procesar\n",
        "doc_1 = \"Pancreatic cancer with metastasis. Jaundice with transaminitis, evaluate for obstruction process.\"\n",
        "doc_2 = \"Pancreatitis. Breast cancer. No output from enteric tube. Assess tube.\"\n",
        "doc_3 = \"Metastasis pancreatic cancer. Acute renal failure, evaluate for hydronephrosis or obstructive uropathy.\"\n",
        "\n",
        "tokens_D1=word_tokenize(doc_1)\n",
        "tokens_D2=word_tokenize(doc_2)\n",
        "tokens_D3=word_tokenize(doc_3)\n",
        "\n",
        "tokens_lowercase_D1 = [token.lower() for token in tokens_D1]\n",
        "tokens_lowercase_D2 = [token.lower() for token in tokens_D2]\n",
        "tokens_lowercase_D3 = [token.lower() for token in tokens_D3]\n",
        "print(tokens_lowercase_D1)\n",
        "print(tokens_lowercase_D2)\n",
        "print(tokens_lowercase_D3)"
      ],
      "metadata": {
        "id": "tVcESL1evtNQ",
        "colab": {
          "base_uri": "https://localhost:8080/"
        },
        "outputId": "b77b1e7b-4104-4be2-9076-1bb6b1d9b1dc"
      },
      "execution_count": 1,
      "outputs": [
        {
          "output_type": "stream",
          "name": "stderr",
          "text": [
            "[nltk_data] Downloading package punkt to /root/nltk_data...\n",
            "[nltk_data]   Unzipping tokenizers/punkt.zip.\n",
            "[nltk_data] Downloading package stopwords to /root/nltk_data...\n",
            "[nltk_data]   Unzipping corpora/stopwords.zip.\n",
            "[nltk_data] Downloading package averaged_perceptron_tagger to\n",
            "[nltk_data]     /root/nltk_data...\n",
            "[nltk_data]   Unzipping taggers/averaged_perceptron_tagger.zip.\n",
            "[nltk_data] Downloading package wordnet to /root/nltk_data...\n"
          ]
        },
        {
          "output_type": "stream",
          "name": "stdout",
          "text": [
            "['pancreatic', 'cancer', 'with', 'metastasis', '.', 'jaundice', 'with', 'transaminitis', ',', 'evaluate', 'for', 'obstruction', 'process', '.']\n",
            "['pancreatitis', '.', 'breast', 'cancer', '.', 'no', 'output', 'from', 'enteric', 'tube', '.', 'assess', 'tube', '.']\n",
            "['metastasis', 'pancreatic', 'cancer', '.', 'acute', 'renal', 'failure', ',', 'evaluate', 'for', 'hydronephrosis', 'or', 'obstructive', 'uropathy', '.']\n"
          ]
        }
      ]
    },
    {
      "cell_type": "code",
      "source": [
        "\n",
        "punctuation_signs = set(string.punctuation)\n",
        "#elimna los signos de puntuación sobre el texto en minusculas y guardamos el resultado en un arreglo tk\n",
        "tk_D1=[w for w in tokens_lowercase_D1 if not w in punctuation_signs]\n",
        "tk_D2=[w for w in tokens_lowercase_D2 if not w in punctuation_signs]\n",
        "tk_D3=[w for w in tokens_lowercase_D3 if not w in punctuation_signs]\n",
        "print(tk_D1)\n",
        "print(tk_D2)\n",
        "print(tk_D3)"
      ],
      "metadata": {
        "colab": {
          "base_uri": "https://localhost:8080/"
        },
        "id": "8whKISAtuYBq",
        "outputId": "2753e85e-bd5e-4658-9ac7-7b20ac5ec799"
      },
      "execution_count": 2,
      "outputs": [
        {
          "output_type": "stream",
          "name": "stdout",
          "text": [
            "['pancreatic', 'cancer', 'with', 'metastasis', 'jaundice', 'with', 'transaminitis', 'evaluate', 'for', 'obstruction', 'process']\n",
            "['pancreatitis', 'breast', 'cancer', 'no', 'output', 'from', 'enteric', 'tube', 'assess', 'tube']\n",
            "['metastasis', 'pancreatic', 'cancer', 'acute', 'renal', 'failure', 'evaluate', 'for', 'hydronephrosis', 'or', 'obstructive', 'uropathy']\n"
          ]
        }
      ]
    },
    {
      "cell_type": "code",
      "source": [
        "stop_words=set(stopwords.words(\"english\"))\n",
        "#Se muestra el set de stopwords\n",
        "print(stop_words)\n",
        "#Se eliminan las stopwords del texto anterior y se guarda en un nuevo arreglo filtrado\n",
        "filtered_text_D1=[w for w in tk_D1 if not w in stop_words]\n",
        "filtered_text_D2=[w for w in tk_D2 if not w in stop_words]\n",
        "filtered_text_D3=[w for w in tk_D3 if not w in stop_words]\n",
        "print(filtered_text_D1)\n",
        "print(filtered_text_D2)\n",
        "print(filtered_text_D3)"
      ],
      "metadata": {
        "colab": {
          "base_uri": "https://localhost:8080/"
        },
        "id": "LlCb4_VAz4yH",
        "outputId": "5a47fef1-9639-4b26-cb31-8891632912a7"
      },
      "execution_count": 3,
      "outputs": [
        {
          "output_type": "stream",
          "name": "stdout",
          "text": [
            "{\"she's\", 'while', 'because', 'no', \"don't\", 'on', \"aren't\", 'were', 'now', \"it's\", 'yourselves', \"you'll\", 't', 'against', \"you're\", 'are', 'themselves', 'mustn', \"shan't\", 'if', 'him', 'what', 'further', 'mightn', 'been', \"mustn't\", \"wasn't\", 'such', 'from', 'those', 'who', 're', 'there', 'he', 'm', \"doesn't\", 'theirs', 'didn', 'weren', 'was', 'she', 'be', 's', 'd', 'some', 've', \"should've\", 'her', 'am', 'above', 'their', 'you', 'hadn', 'we', 'it', 'ain', \"couldn't\", 'hasn', 'ma', 'during', 'where', 'most', 'so', 'himself', \"weren't\", 'whom', 'this', 'can', 'them', 'our', 'that', 'before', 'how', 'both', 'the', 'me', 'did', 'same', \"isn't\", 'do', 'more', 'i', 'myself', 'not', \"hasn't\", \"needn't\", 'up', 'or', 'each', 'have', 'has', 'nor', 'couldn', 'is', 'out', 'then', 'ourselves', \"that'll\", \"mightn't\", 'at', 'but', 'does', 'being', \"you'd\", 'to', 'few', 'of', 'any', 'which', \"you've\", 'too', 'under', 'when', 'needn', 'over', 'below', 'here', 'had', 'they', 'once', \"won't\", 'off', 'don', 'by', 'itself', 'doesn', 'y', 'wasn', 'as', 'should', 'll', 'than', \"hadn't\", 'yourself', 'with', 'won', 'into', 'will', 'ours', 'wouldn', 'shan', 'other', 'these', 'about', 'its', 'yours', 'a', 'an', 'o', 'between', 'all', \"haven't\", 'isn', 'for', 'your', 'shouldn', 'aren', 'until', 'hers', \"wouldn't\", \"didn't\", 'having', 'his', 'haven', 'own', 'my', \"shouldn't\", 'doing', 'in', 'just', 'why', 'down', 'and', 'after', 'again', 'very', 'through', 'herself', 'only'}\n",
            "['pancreatic', 'cancer', 'metastasis', 'jaundice', 'transaminitis', 'evaluate', 'obstruction', 'process']\n",
            "['pancreatitis', 'breast', 'cancer', 'output', 'enteric', 'tube', 'assess', 'tube']\n",
            "['metastasis', 'pancreatic', 'cancer', 'acute', 'renal', 'failure', 'evaluate', 'hydronephrosis', 'obstructive', 'uropathy']\n"
          ]
        }
      ]
    },
    {
      "cell_type": "code",
      "source": [
        "snowball_stemmer = SnowballStemmer('english')\n",
        "stemmed_text_D1=[]\n",
        "stemmed_text_D2=[]\n",
        "stemmed_text_D3=[]\n",
        "for w in filtered_text_D1:\n",
        "  stemmed_text_D1.append(snowball_stemmer.stem(w))\n",
        "for w in filtered_text_D2:\n",
        "  stemmed_text_D2.append(snowball_stemmer.stem(w))\n",
        "for w in filtered_text_D3:\n",
        "  stemmed_text_D3.append(snowball_stemmer.stem(w))\n",
        "\n",
        "print(stemmed_text_D1)\n",
        "print(stemmed_text_D2)\n",
        "print(stemmed_text_D3)"
      ],
      "metadata": {
        "colab": {
          "base_uri": "https://localhost:8080/"
        },
        "id": "xDRjyAjh0UH6",
        "outputId": "9de869de-d5f3-4bcc-e34f-2ef4f6a1395c"
      },
      "execution_count": 4,
      "outputs": [
        {
          "output_type": "stream",
          "name": "stdout",
          "text": [
            "['pancreat', 'cancer', 'metastasi', 'jaundic', 'transamin', 'evalu', 'obstruct', 'process']\n",
            "['pancreat', 'breast', 'cancer', 'output', 'enter', 'tube', 'assess', 'tube']\n",
            "['metastasi', 'pancreat', 'cancer', 'acut', 'renal', 'failur', 'evalu', 'hydronephrosi', 'obstruct', 'uropathi']\n"
          ]
        }
      ]
    },
    {
      "cell_type": "code",
      "source": [
        "lemmatizer = WordNetLemmatizer()\n",
        "lemmatized_text_D1=[]\n",
        "lemmatized_text_D2=[]\n",
        "lemmatized_text_D3=[]\n",
        "\n",
        "for w in stemmed_text_D1:\n",
        "  lemmatized_text_D1.append(lemmatizer.lemmatize(w))\n",
        "\n",
        "for w in stemmed_text_D2:\n",
        "  lemmatized_text_D2.append(lemmatizer.lemmatize(w))\n",
        "\n",
        "for w in stemmed_text_D3:\n",
        "  lemmatized_text_D3.append(lemmatizer.lemmatize(w))\n",
        "\n",
        "print(lemmatized_text_D1)\n",
        "print(lemmatized_text_D2)\n",
        "print(lemmatized_text_D3)\n",
        "\n",
        "doc1_posprocess= ' '.join(lemmatized_text_D1)\n",
        "doc2_posprocess= ' '.join(lemmatized_text_D2)\n",
        "doc3_posprocess= ' '.join(lemmatized_text_D3)\n",
        "print(\"Doc 1\")\n",
        "print(doc1_posprocess)\n",
        "print(\"Doc 2\")\n",
        "print(doc2_posprocess)\n",
        "print(\"Doc 3\")\n",
        "print(doc3_posprocess)"
      ],
      "metadata": {
        "colab": {
          "base_uri": "https://localhost:8080/"
        },
        "id": "K-M9pp4J2m-Z",
        "outputId": "6fd225a6-c782-4bf5-e67a-5115a4b9cd95"
      },
      "execution_count": 6,
      "outputs": [
        {
          "output_type": "stream",
          "name": "stdout",
          "text": [
            "['pancreat', 'cancer', 'metastasi', 'jaundic', 'transamin', 'evalu', 'obstruct', 'process']\n",
            "['pancreat', 'breast', 'cancer', 'output', 'enter', 'tube', 'ass', 'tube']\n",
            "['metastasi', 'pancreat', 'cancer', 'acut', 'renal', 'failur', 'evalu', 'hydronephrosi', 'obstruct', 'uropathi']\n",
            "Doc 1\n",
            "pancreat cancer metastasi jaundic transamin evalu obstruct process\n",
            "Doc 2\n",
            "pancreat breast cancer output enter tube ass tube\n",
            "Doc 3\n",
            "metastasi pancreat cancer acut renal failur evalu hydronephrosi obstruct uropathi\n"
          ]
        }
      ]
    },
    {
      "cell_type": "code",
      "source": [
        "postag_text_D1=nltk.pos_tag(lemmatized_text_D1)\n",
        "postag_text_D2=nltk.pos_tag(lemmatized_text_D2)\n",
        "postag_text_D3=nltk.pos_tag(lemmatized_text_D3)\n",
        "print(postag_text_D1)\n",
        "print(postag_text_D2)\n",
        "print(postag_text_D3)"
      ],
      "metadata": {
        "colab": {
          "base_uri": "https://localhost:8080/"
        },
        "id": "67nsC5yr3en9",
        "outputId": "c8ff2080-5170-415c-94de-ca05abd2db82"
      },
      "execution_count": 8,
      "outputs": [
        {
          "output_type": "stream",
          "name": "stdout",
          "text": [
            "[('pancreat', 'NN'), ('cancer', 'NN'), ('metastasi', 'NN'), ('jaundic', 'JJ'), ('transamin', 'NN'), ('evalu', 'JJ'), ('obstruct', 'NN'), ('process', 'NN')]\n",
            "[('pancreat', 'NN'), ('breast', 'NN'), ('cancer', 'NN'), ('output', 'NN'), ('enter', 'VBP'), ('tube', 'JJ'), ('ass', 'NN'), ('tube', 'NN')]\n",
            "[('metastasi', 'NN'), ('pancreat', 'NN'), ('cancer', 'NN'), ('acut', 'VBD'), ('renal', 'JJ'), ('failur', 'NN'), ('evalu', 'NN'), ('hydronephrosi', 'NN'), ('obstruct', 'NN'), ('uropathi', 'NN')]\n"
          ]
        }
      ]
    },
    {
      "cell_type": "markdown",
      "source": [
        "2. Generar y mostrar el vocabulario de términos únicos extraídos de los documentos\n",
        "normalizados y también el histograma de tales términos."
      ],
      "metadata": {
        "id": "7hAseIKw5-yZ"
      }
    },
    {
      "cell_type": "code",
      "source": [
        "normalized_texts = lemmatized_text_D1 + lemmatized_text_D2 + lemmatized_text_D3\n",
        "print(normalized_texts)\n",
        "uni_tokens=set(normalized_texts)"
      ],
      "metadata": {
        "colab": {
          "base_uri": "https://localhost:8080/"
        },
        "id": "iQRUkiTc5Cj9",
        "outputId": "451cb1d6-923d-4e73-d918-aa28a681f93f"
      },
      "execution_count": 9,
      "outputs": [
        {
          "output_type": "stream",
          "name": "stdout",
          "text": [
            "['pancreat', 'cancer', 'metastasi', 'jaundic', 'transamin', 'evalu', 'obstruct', 'process', 'pancreat', 'breast', 'cancer', 'output', 'enter', 'tube', 'ass', 'tube', 'metastasi', 'pancreat', 'cancer', 'acut', 'renal', 'failur', 'evalu', 'hydronephrosi', 'obstruct', 'uropathi']\n"
          ]
        }
      ]
    },
    {
      "cell_type": "code",
      "source": [
        "freq=FreqDist(normalized_texts)\n",
        "print(freq)\n",
        "top_tokens = freq.most_common()\n",
        "print(top_tokens)\n",
        "\n",
        "words = list(freq.keys())\n",
        "frequencies = list(freq.values())\n",
        "\n",
        "# Crear el gráfico de barras\n",
        "plt.bar(words, frequencies, edgecolor='black')\n",
        "plt.xlabel('Términos únicos')\n",
        "plt.ylabel('Frecuencia')\n",
        "plt.title('Histograma de Frecuencia de Términos Únicos')\n",
        "plt.xticks(rotation=45, ha='right')\n",
        "plt.grid(axis='y', alpha=0.75)\n",
        "plt.show()"
      ],
      "metadata": {
        "id": "px7pgFog5n_W",
        "colab": {
          "base_uri": "https://localhost:8080/",
          "height": 596
        },
        "outputId": "f817eeee-a7ec-4bd0-d750-d76849621b96"
      },
      "execution_count": 10,
      "outputs": [
        {
          "output_type": "stream",
          "name": "stdout",
          "text": [
            "<FreqDist with 18 samples and 26 outcomes>\n",
            "[('pancreat', 3), ('cancer', 3), ('metastasi', 2), ('evalu', 2), ('obstruct', 2), ('tube', 2), ('jaundic', 1), ('transamin', 1), ('process', 1), ('breast', 1), ('output', 1), ('enter', 1), ('ass', 1), ('acut', 1), ('renal', 1), ('failur', 1), ('hydronephrosi', 1), ('uropathi', 1)]\n"
          ]
        },
        {
          "output_type": "display_data",
          "data": {
            "text/plain": [
              "<Figure size 640x480 with 1 Axes>"
            ],
            "image/png": "[encoded data removed]"
          },
          "metadata": {}
        }
      ]
    },
    {
      "cell_type": "markdown",
      "source": [
        "3. Generar los vectores para representar numéricamente cada documento de acuerdo\n",
        "con las siguientes técnicas: <br>\n",
        "a. One Hot Encoding o “Term Presence”."
      ],
      "metadata": {
        "id": "gDila1Zfg4e1"
      }
    },
    {
      "cell_type": "code",
      "source": [
        "term_presence_D1 = []\n",
        "for w in words:\n",
        "  if w in lemmatized_text_D1:\n",
        "    term_presence_D1.append(1)\n",
        "  else:\n",
        "    term_presence_D1.append(0)\n",
        "print(\"Term presence in Doc 1\")\n",
        "print(words)\n",
        "print(lemmatized_text_D1)\n",
        "print(term_presence_D1)\n",
        "\n",
        "term_presence_D2 = []\n",
        "for w in words:\n",
        "  if w in lemmatized_text_D2:\n",
        "    term_presence_D2.append(1)\n",
        "  else:\n",
        "    term_presence_D2.append(0)\n",
        "print(\"\\nTerm presence in Doc 2\")\n",
        "print(words)\n",
        "print(lemmatized_text_D2)\n",
        "print(term_presence_D2)\n",
        "\n",
        "term_presence_D3 = []\n",
        "for w in words:\n",
        "  if w in lemmatized_text_D3:\n",
        "    term_presence_D3.append(1)\n",
        "  else:\n",
        "    term_presence_D3.append(0)\n",
        "print(\"\\nTerm presence in Doc 3\")\n",
        "print(words)\n",
        "print(lemmatized_text_D3)\n",
        "print(term_presence_D3)"
      ],
      "metadata": {
        "id": "WkoJfyLDYUrM",
        "colab": {
          "base_uri": "https://localhost:8080/"
        },
        "outputId": "faf4e87f-7704-405b-9dae-2e7417f395d0"
      },
      "execution_count": 11,
      "outputs": [
        {
          "output_type": "stream",
          "name": "stdout",
          "text": [
            "Term presence in Doc 1\n",
            "['pancreat', 'cancer', 'metastasi', 'jaundic', 'transamin', 'evalu', 'obstruct', 'process', 'breast', 'output', 'enter', 'tube', 'ass', 'acut', 'renal', 'failur', 'hydronephrosi', 'uropathi']\n",
            "['pancreat', 'cancer', 'metastasi', 'jaundic', 'transamin', 'evalu', 'obstruct', 'process']\n",
            "[1, 1, 1, 1, 1, 1, 1, 1, 0, 0, 0, 0, 0, 0, 0, 0, 0, 0]\n",
            "\n",
            "Term presence in Doc 2\n",
            "['pancreat', 'cancer', 'metastasi', 'jaundic', 'transamin', 'evalu', 'obstruct', 'process', 'breast', 'output', 'enter', 'tube', 'ass', 'acut', 'renal', 'failur', 'hydronephrosi', 'uropathi']\n",
            "['pancreat', 'breast', 'cancer', 'output', 'enter', 'tube', 'ass', 'tube']\n",
            "[1, 1, 0, 0, 0, 0, 0, 0, 1, 1, 1, 1, 1, 0, 0, 0, 0, 0]\n",
            "\n",
            "Term presence in Doc 3\n",
            "['pancreat', 'cancer', 'metastasi', 'jaundic', 'transamin', 'evalu', 'obstruct', 'process', 'breast', 'output', 'enter', 'tube', 'ass', 'acut', 'renal', 'failur', 'hydronephrosi', 'uropathi']\n",
            "['metastasi', 'pancreat', 'cancer', 'acut', 'renal', 'failur', 'evalu', 'hydronephrosi', 'obstruct', 'uropathi']\n",
            "[1, 1, 1, 0, 0, 1, 1, 0, 0, 0, 0, 0, 0, 1, 1, 1, 1, 1]\n"
          ]
        }
      ]
    },
    {
      "cell_type": "markdown",
      "source": [
        "b. Cantidad de términos o “Term Count”."
      ],
      "metadata": {
        "id": "bEHYGN46mx1U"
      }
    },
    {
      "cell_type": "code",
      "source": [
        "term_count_D1 = [0] * len(words)\n",
        "term_count_D2 = [0] * len(words)\n",
        "term_count_D3 = [0] * len(words)\n",
        "\n",
        "# Contar la frecuencia de cada término en el documento 1\n",
        "for i, w in enumerate(words):\n",
        "    term_count_D1[i] = lemmatized_text_D1.count(w)\n",
        "\n",
        "# Contar la frecuencia de cada término en el documento 2\n",
        "for i, w in enumerate(words):\n",
        "    term_count_D2[i] = lemmatized_text_D2.count(w)\n",
        "\n",
        "# Contar la frecuencia de cada término en el documento 3\n",
        "for i, w in enumerate(words):\n",
        "    term_count_D3[i] = lemmatized_text_D3.count(w)\n",
        "\n",
        "# Imprimir los vectores de conteo de términos\n",
        "print(\"Term count in Doc 1\")\n",
        "print(term_count_D1)\n",
        "print(\"\\nTerm count in Doc 2\")\n",
        "print(term_count_D2)\n",
        "print(\"\\nTerm count in Doc 3\")\n",
        "print(term_count_D3)"
      ],
      "metadata": {
        "id": "EreFgX5OjKPW",
        "colab": {
          "base_uri": "https://localhost:8080/"
        },
        "outputId": "146199dc-c9b0-4095-b413-c568ce56e098"
      },
      "execution_count": 12,
      "outputs": [
        {
          "output_type": "stream",
          "name": "stdout",
          "text": [
            "Term count in Doc 1\n",
            "[1, 1, 1, 1, 1, 1, 1, 1, 0, 0, 0, 0, 0, 0, 0, 0, 0, 0]\n",
            "\n",
            "Term count in Doc 2\n",
            "[1, 1, 0, 0, 0, 0, 0, 0, 1, 1, 1, 2, 1, 0, 0, 0, 0, 0]\n",
            "\n",
            "Term count in Doc 3\n",
            "[1, 1, 1, 0, 0, 1, 1, 0, 0, 0, 0, 0, 0, 1, 1, 1, 1, 1]\n"
          ]
        }
      ]
    },
    {
      "cell_type": "markdown",
      "source": [
        "c. Probabilidad del término.<br>\n",
        "$P(t)={\\text{Number of times term t appears in the corpus}\\over \\text{Total number of terms in the corpus}}$"
      ],
      "metadata": {
        "id": "rsMKR8NpoCZg"
      }
    },
    {
      "cell_type": "code",
      "source": [
        "#número de veces que aparecer termino y en el cuerpo\n",
        "Total_terms=[0] * len(words)\n",
        "for i, w in enumerate(words):\n",
        "    Total_terms[i] = normalized_texts.count(w)\n",
        "print(\"Veces que aparece t en el cuerpo\")\n",
        "print(Total_terms)\n",
        "Total_number_terms=len(words)\n",
        "Probability_t=[0] * len(words)\n",
        "print(\"Total de terminos en el cuerpo: \", Total_number_terms)\n",
        "for i, w in enumerate(Total_terms):\n",
        "    Probability_t[i] = w/Total_number_terms\n",
        "print(\"P(t)\")\n",
        "print(Probability_t)"
      ],
      "metadata": {
        "id": "vqptnezRoEju",
        "colab": {
          "base_uri": "https://localhost:8080/"
        },
        "outputId": "f9ec5366-56d0-4802-9176-a6511a9be6ae"
      },
      "execution_count": 13,
      "outputs": [
        {
          "output_type": "stream",
          "name": "stdout",
          "text": [
            "Veces que aparece t en el cuerpo\n",
            "[3, 3, 2, 1, 1, 2, 2, 1, 1, 1, 1, 2, 1, 1, 1, 1, 1, 1]\n",
            "Total de terminos en el cuerpo:  18\n",
            "P(t)\n",
            "[0.16666666666666666, 0.16666666666666666, 0.1111111111111111, 0.05555555555555555, 0.05555555555555555, 0.1111111111111111, 0.1111111111111111, 0.05555555555555555, 0.05555555555555555, 0.05555555555555555, 0.05555555555555555, 0.1111111111111111, 0.05555555555555555, 0.05555555555555555, 0.05555555555555555, 0.05555555555555555, 0.05555555555555555, 0.05555555555555555]\n"
          ]
        }
      ]
    },
    {
      "cell_type": "markdown",
      "source": [
        "d. Frecuencia de términos o \"term frecuency (TF)\"<br>\n",
        "$TF={\\text{Number of times term t appears in the document }\\over \\text{Total number of terms in the corpus}}$"
      ],
      "metadata": {
        "id": "O5S73R-bEluc"
      }
    },
    {
      "cell_type": "code",
      "source": [
        "tf_d1=[0] * len(term_count_D1)\n",
        "print(\"TF doc1\")\n",
        "print(term_count_D1)\n",
        "for i, w in enumerate(term_count_D1):\n",
        "    tf_d1[i] = w/len(lemmatized_text_D1)\n",
        "print(tf_d1)\n",
        "\n",
        "tf_d2=[0] * len(term_count_D1)\n",
        "print(\"\\nTF doc2\")\n",
        "print(term_count_D2)\n",
        "for i, w in enumerate(term_count_D2):\n",
        "    tf_d2[i] = w/len(lemmatized_text_D2)\n",
        "print(tf_d2)\n",
        "\n",
        "tf_d3=[0] * len(term_count_D1)\n",
        "print(\"\\nTF doc3\")\n",
        "print(term_count_D3)\n",
        "for i, w in enumerate(term_count_D3):\n",
        "    tf_d3[i] = w/len(lemmatized_text_D3)\n",
        "print(tf_d3)"
      ],
      "metadata": {
        "colab": {
          "base_uri": "https://localhost:8080/"
        },
        "id": "LHqFZttPEkUJ",
        "outputId": "e0561e40-e0c8-4e2d-f721-d60a93d85719"
      },
      "execution_count": 15,
      "outputs": [
        {
          "output_type": "stream",
          "name": "stdout",
          "text": [
            "TF doc1\n",
            "[1, 1, 1, 1, 1, 1, 1, 1, 0, 0, 0, 0, 0, 0, 0, 0, 0, 0]\n",
            "[0.125, 0.125, 0.125, 0.125, 0.125, 0.125, 0.125, 0.125, 0.0, 0.0, 0.0, 0.0, 0.0, 0.0, 0.0, 0.0, 0.0, 0.0]\n",
            "\n",
            "TF doc2\n",
            "[1, 1, 0, 0, 0, 0, 0, 0, 1, 1, 1, 2, 1, 0, 0, 0, 0, 0]\n",
            "[0.125, 0.125, 0.0, 0.0, 0.0, 0.0, 0.0, 0.0, 0.125, 0.125, 0.125, 0.25, 0.125, 0.0, 0.0, 0.0, 0.0, 0.0]\n",
            "\n",
            "TF doc3\n",
            "[1, 1, 1, 0, 0, 1, 1, 0, 0, 0, 0, 0, 0, 1, 1, 1, 1, 1]\n",
            "[0.1, 0.1, 0.1, 0.0, 0.0, 0.1, 0.1, 0.0, 0.0, 0.0, 0.0, 0.0, 0.0, 0.1, 0.1, 0.1, 0.1, 0.1]\n"
          ]
        }
      ]
    },
    {
      "cell_type": "markdown",
      "source": [
        "e. Frecuencia inversa de documentos IDF<br>\n",
        "$IDF=\\log{\\text{Number of documents in corpus}\\over \\text{Number of documents where term appears}}$"
      ],
      "metadata": {
        "id": "cQQGr3__Jp5m"
      }
    },
    {
      "cell_type": "code",
      "source": [
        "\n",
        "import numpy as np\n",
        "idf=[0] * len(words)\n",
        "# Sumar los vectores de presencia de términos para cada documento\n",
        "total_presence = [sum(presence) for presence in zip(term_presence_D1, term_presence_D2, term_presence_D3)]\n",
        "\n",
        "# Contar cuántas veces aparece cada término en los documentos\n",
        "term_document_count = [presence > 0 for presence in total_presence]\n",
        "print(total_presence)\n",
        "\n",
        "for i, w in enumerate (total_presence):\n",
        "    idf[i] = np.log(3/w)\n",
        "\n",
        "print(idf)"
      ],
      "metadata": {
        "id": "_meB_8euJ16H",
        "colab": {
          "base_uri": "https://localhost:8080/"
        },
        "outputId": "f511bad3-a403-4449-e5d2-29acbab827d1"
      },
      "execution_count": 16,
      "outputs": [
        {
          "output_type": "stream",
          "name": "stdout",
          "text": [
            "[3, 3, 2, 1, 1, 2, 2, 1, 1, 1, 1, 1, 1, 1, 1, 1, 1, 1]\n",
            "[0.0, 0.0, 0.4054651081081644, 1.0986122886681098, 1.0986122886681098, 0.4054651081081644, 0.4054651081081644, 1.0986122886681098, 1.0986122886681098, 1.0986122886681098, 1.0986122886681098, 1.0986122886681098, 1.0986122886681098, 1.0986122886681098, 1.0986122886681098, 1.0986122886681098, 1.0986122886681098, 1.0986122886681098]\n"
          ]
        }
      ]
    },
    {
      "cell_type": "markdown",
      "source": [
        "f. $TF-IDF$"
      ],
      "metadata": {
        "id": "NjYgPZetOf8N"
      }
    },
    {
      "cell_type": "code",
      "source": [
        "tf_idf_1=[0] * len(words)\n",
        "for i, w in enumerate(idf):\n",
        "   tf_idf_1[i] = tf_d1[i] * w\n",
        "print(tf_idf_1)\n",
        "\n",
        "tf_idf_2=[0] * len(words)\n",
        "for i, w in enumerate(idf):\n",
        "   tf_idf_2[i] = tf_d2[i] * w\n",
        "print(tf_idf_2)\n",
        "\n",
        "tf_idf_3=[0] * len(words)\n",
        "for i, w in enumerate(idf):\n",
        "   tf_idf_3[i] = tf_d3[i] * w\n",
        "print(tf_idf_3)"
      ],
      "metadata": {
        "colab": {
          "base_uri": "https://localhost:8080/"
        },
        "id": "nNBzE8-KOlmO",
        "outputId": "44a37e38-8d14-4774-ffa1-6bb29035ea5d"
      },
      "execution_count": 17,
      "outputs": [
        {
          "output_type": "stream",
          "name": "stdout",
          "text": [
            "[0.0, 0.0, 0.05068313851352055, 0.13732653608351372, 0.13732653608351372, 0.05068313851352055, 0.05068313851352055, 0.13732653608351372, 0.0, 0.0, 0.0, 0.0, 0.0, 0.0, 0.0, 0.0, 0.0, 0.0]\n",
            "[0.0, 0.0, 0.0, 0.0, 0.0, 0.0, 0.0, 0.0, 0.13732653608351372, 0.13732653608351372, 0.13732653608351372, 0.27465307216702745, 0.13732653608351372, 0.0, 0.0, 0.0, 0.0, 0.0]\n",
            "[0.0, 0.0, 0.04054651081081644, 0.0, 0.0, 0.04054651081081644, 0.04054651081081644, 0.0, 0.0, 0.0, 0.0, 0.0, 0.0, 0.10986122886681099, 0.10986122886681099, 0.10986122886681099, 0.10986122886681099, 0.10986122886681099]\n"
          ]
        }
      ]
    }
  ]
}